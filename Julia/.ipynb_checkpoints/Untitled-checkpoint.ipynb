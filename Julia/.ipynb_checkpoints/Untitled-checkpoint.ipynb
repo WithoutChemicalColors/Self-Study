{
 "cells": [
  {
   "cell_type": "code",
   "execution_count": null,
   "metadata": {},
   "outputs": [],
   "source": [
    "# reference\n",
    "# #https://juliadata.github.io/DataFrames.jl/stable/man/getting_started.html\n",
    "\n",
    "\n",
    "# Julia : DataFrames  is similar to Python : pandas\n",
    "# However if you want to read csv, module CSV is recommanded.\n",
    "using DataFrames, CSV, Plots"
   ]
  },
  {
   "cell_type": "code",
   "execution_count": 4,
   "metadata": {},
   "outputs": [],
   "source": [
    "path = raw\"../OtherFiles/data1.txt\"\n",
    "# ?CSV.read is your good friend. \n",
    "# df = CSV.read(path, delim=\" \", header=true);\n",
    "# However it doesn't work here..."
   ]
  },
  {
   "cell_type": "code",
   "execution_count": 5,
   "metadata": {},
   "outputs": [],
   "source": [
    "# create array used to generate dataframe\n",
    "lines = [ ];\n",
    "open(path) do f\n",
    "    for line in eachline(f)\n",
    "        push!(lines, split(line)); end end\n",
    "buffer = Dict{ String, Array{Float32} }(key=>[] for key in lines[1]);\n",
    "\n",
    "for row in 2:length(lines)\n",
    "    for (key, col) in zip(lines[1], lines[row])\n",
    "        try\n",
    "            append!(buffer[key], parse(Float32, col));\n",
    "        catch\n",
    "            println(row, \" : \", key,\" : \", col) end end end"
   ]
  },
  {
   "cell_type": "code",
   "execution_count": 6,
   "metadata": {},
   "outputs": [],
   "source": [
    "df = DataFrame(buffer);"
   ]
  },
  {
   "cell_type": "code",
   "execution_count": 7,
   "metadata": {},
   "outputs": [
    {
     "data": {
      "text/html": [
       "<table class=\"data-frame\"><thead><tr><th></th><th>HCHO</th><th>catalyst</th><th>press</th><th>temp</th><th>time</th></tr></thead><tbody><tr><th>1</th><td>8.0</td><td>4.0</td><td>1.4</td><td>100.0</td><td>1.0</td></tr><tr><th>2</th><td>2.0</td><td>4.0</td><td>2.2</td><td>180.0</td><td>7.0</td></tr><tr><th>3</th><td>7.0</td><td>4.0</td><td>4.6</td><td>180.0</td><td>1.0</td></tr><tr><th>4</th><td>10.0</td><td>7.0</td><td>4.9</td><td>120.0</td><td>5.0</td></tr><tr><th>5</th><td>7.0</td><td>4.0</td><td>4.6</td><td>180.0</td><td>5.0</td></tr><tr><th>6</th><td>7.0</td><td>7.0</td><td>4.7</td><td>180.0</td><td>1.0</td></tr></tbody></table>"
      ],
      "text/plain": [
       "6×5 DataFrame\n",
       "│ Row │ HCHO │ catalyst │ press │ temp  │ time │\n",
       "├─────┼──────┼──────────┼───────┼───────┼──────┤\n",
       "│ 1   │ 8.0  │ 4.0      │ 1.4   │ 100.0 │ 1.0  │\n",
       "│ 2   │ 2.0  │ 4.0      │ 2.2   │ 180.0 │ 7.0  │\n",
       "│ 3   │ 7.0  │ 4.0      │ 4.6   │ 180.0 │ 1.0  │\n",
       "│ 4   │ 10.0 │ 7.0      │ 4.9   │ 120.0 │ 5.0  │\n",
       "│ 5   │ 7.0  │ 4.0      │ 4.6   │ 180.0 │ 5.0  │\n",
       "│ 6   │ 7.0  │ 7.0      │ 4.7   │ 180.0 │ 1.0  │"
      ]
     },
     "execution_count": 7,
     "metadata": {},
     "output_type": "execute_result"
    }
   ],
   "source": [
    "head(df)"
   ]
  },
  {
   "cell_type": "code",
   "execution_count": 14,
   "metadata": {},
   "outputs": [
    {
     "ename": "ErrorException",
     "evalue": "type RecipeData has no field d",
     "output_type": "error",
     "traceback": [
      "type RecipeData has no field d",
      "",
      "Stacktrace:",
      " [1] getproperty(::Any, ::Symbol) at .\\sysimg.jl:18",
      " [2] _process_userrecipes(::Plots.Plot{Plots.GRBackend}, ::Dict{Symbol,Any}, ::Tuple{Array{Float32,1},Array{Float32,1}}) at C:\\Users\\melissa\\.julia\\packages\\Plots\\ex9On\\src\\pipeline.jl:83",
      " [3] macro expansion at .\\logging.jl:307 [inlined]",
      " [4] _plot!(::Plots.Plot{Plots.GRBackend}, ::Dict{Symbol,Any}, ::Tuple{Array{Float32,1},Array{Float32,1}}) at C:\\Users\\melissa\\.julia\\packages\\Plots\\ex9On\\src\\plot.jl:171",
      " [5] #plot#136(::Base.Iterators.Pairs{Union{},Union{},Tuple{},NamedTuple{(),Tuple{}}}, ::Function, ::Array{Float32,1}, ::Vararg{Array{Float32,1},N} where N) at C:\\Users\\melissa\\.julia\\packages\\Plots\\ex9On\\src\\plot.jl:57",
      " [6] plot(::Array{Float32,1}, ::Array{Float32,1}) at C:\\Users\\melissa\\.julia\\packages\\Plots\\ex9On\\src\\plot.jl:51",
      " [7] top-level scope at In[14]:1"
     ]
    }
   ],
   "source": [
    "plot(df.HCHO, df.catalyst)"
   ]
  }
 ],
 "metadata": {
  "kernelspec": {
   "display_name": "Julia 1.0.0",
   "language": "julia",
   "name": "julia-1.0"
  },
  "language_info": {
   "file_extension": ".jl",
   "mimetype": "application/julia",
   "name": "julia",
   "version": "1.0.0"
  }
 },
 "nbformat": 4,
 "nbformat_minor": 2
}
