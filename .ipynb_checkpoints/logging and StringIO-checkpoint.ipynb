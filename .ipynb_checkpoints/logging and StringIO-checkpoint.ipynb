{
 "cells": [
  {
   "cell_type": "markdown",
   "metadata": {},
   "source": [
    "# logging & StringIO"
   ]
  },
  {
   "cell_type": "code",
   "execution_count": 2,
   "metadata": {},
   "outputs": [],
   "source": [
    "import logging\n",
    "from io import StringIO"
   ]
  },
  {
   "cell_type": "code",
   "execution_count": null,
   "metadata": {},
   "outputs": [],
   "source": [
    "log_stream = StringIO()\n",
    "logging.basicConfig(format=\"%(message)s\", level=logging.INFO, stream=log_stream )"
   ]
  },
  {
   "cell_type": "code",
   "execution_count": null,
   "metadata": {},
   "outputs": [],
   "source": [
    "for i in range(10):\n",
    "    logging.info(i)\n",
    "    print( log_stream.getvalue().split(\"\\n\") )\n",
    "    \n",
    "log_stream.truncate(0)\n",
    "log_stream.seek(0)"
   ]
  },
  {
   "cell_type": "code",
   "execution_count": null,
   "metadata": {},
   "outputs": [],
   "source": [
    "# remove all handlers so as to reset logging.basicConfig\n",
    "for i in logging.root.handlers[:]:\n",
    "    logging.root.removeHandler(i)"
   ]
  },
  {
   "cell_type": "markdown",
   "metadata": {},
   "source": [
    "# Filter"
   ]
  },
  {
   "cell_type": "code",
   "execution_count": null,
   "metadata": {},
   "outputs": [],
   "source": [
    "# remove all handlers and filters so as to reset logging.basicConfig\n",
    "for i in logging.root.handlers[:]:\n",
    "    logging.root.removeHandler(i)\n",
    "try:\n",
    "    for i in logger.filters[:]:\n",
    "        logger.removeFilter(i)\n",
    "except:\n",
    "    pass\n",
    "    \n",
    "class FILTER(logging.Filter):\n",
    "    \n",
    "    counter = 0\n",
    "    \n",
    "    def cat(self, record):\n",
    "        print(\"system doesn't recongnize\")\n",
    "        \n",
    "    def filter(self, record):\n",
    "        print(\"-\"*100)\n",
    "        print(\"Filter starts, every thing in filter will show afterwards!\")\n",
    "        \n",
    "        \n",
    "        logging.info(\"Although I'm here, but I will show at first\")\n",
    "        print(\"Message in record:\", record.msg)\n",
    "        # print(\"counter number: {}\".format(counter)) -- This is Incorrect\n",
    "        print(\"counter number: {}\".format(FILTER.counter))\n",
    "        FILTER.counter+=1\n",
    "        \n",
    "        \n",
    "        print(\"Leave Filter\")\n",
    "        \n",
    "        return True\n",
    "        \n",
    "logging.basicConfig(format=\"%(message)s\", level=logging.INFO)\n",
    "logger = logging.getLogger(\"filted\")\n",
    "f1 = FILTER()\n",
    "logger.addFilter(f1)"
   ]
  },
  {
   "cell_type": "code",
   "execution_count": null,
   "metadata": {},
   "outputs": [],
   "source": [
    "logger.info(\"Hello World\")\n",
    "logger.info(\"Hi\")\n",
    "logger.info(\"Nice to Meet you\")"
   ]
  },
  {
   "cell_type": "code",
   "execution_count": null,
   "metadata": {},
   "outputs": [],
   "source": [
    "# remove all handlers and filters so as to reset logging.basicConfig\n",
    "for i in logging.root.handlers[:]:\n",
    "    logging.root.removeHandler(i)\n",
    "try:\n",
    "    for i in logger.filters[:]:\n",
    "        logger.removeFilter(i)\n",
    "except:\n",
    "    pass\n",
    "    \n",
    "class FILTER(logging.Filter):\n",
    "    \n",
    "    counter = 0\n",
    "    \n",
    "    def cat(self, record):\n",
    "        print(\"system doesn't recongnize\")\n",
    "        \n",
    "    def filter(self, record):\n",
    "        print(\"-\"*100)\n",
    "        print(\"Filter starts, every thing in filter will show afterwards!\")\n",
    "        \n",
    "        \n",
    "        logging.info(\"Although I'm here, but I will show at first\")\n",
    "        print(\"Message in record:\", record.msg)\n",
    "        # print(\"counter number: {}\".format(counter)) -- This is Incorrect\n",
    "        print(\"counter number: {}\".format(FILTER.counter))\n",
    "        FILTER.counter+=1\n",
    "        \n",
    "        \n",
    "        print(\"Leave Filter\")\n",
    "        \n",
    "        return True\n",
    "        \n",
    "logging.basicConfig(format=\"%(message)s\", level=logging.INFO)\n",
    "logger = logging.getLogger(\"filted\")\n",
    "f1 = FILTER()\n",
    "logger.addFilter(f1)"
   ]
  },
  {
   "cell_type": "code",
   "execution_count": null,
   "metadata": {},
   "outputs": [],
   "source": [
    "logger.info(\"Hello World\")\n",
    "logger.info(\"Hi\")\n",
    "logger.info(\"Nice to Meet you\")"
   ]
  },
  {
   "cell_type": "markdown",
   "metadata": {},
   "source": [
    "# Something About Level"
   ]
  },
  {
   "cell_type": "code",
   "execution_count": null,
   "metadata": {},
   "outputs": [],
   "source": [
    "# remove all handlers and filters so as to reset logging.basicConfig\n",
    "for i in logging.root.handlers[:]:\n",
    "    logging.root.removeHandler(i)\n",
    "    \n",
    "logging.root.handlers[:]\n",
    "logging.info(\"hello\")\n",
    "logging.root.level"
   ]
  },
  {
   "cell_type": "markdown",
   "metadata": {},
   "source": [
    "# Every 5 logger ( children handler version )"
   ]
  },
  {
   "cell_type": "code",
   "execution_count": 139,
   "metadata": {},
   "outputs": [],
   "source": [
    "# remove all handlers and filters so as to reset logging.basicConfig\n",
    "for i in logging.root.handlers[:]:\n",
    "    logging.root.removeHandler(i)\n",
    "try:\n",
    "    for i in logger.filters[:]:\n",
    "        logger.removeFilter(i)\n",
    "except:\n",
    "    pass\n",
    "\n",
    "    \n",
    "class FILTER(logging.Filter):\n",
    "    \n",
    "    counter = 0\n",
    "        \n",
    "    def filter(self, record):\n",
    "        print(\"-\"*100)\n",
    "        \n",
    "        if FILTER.counter % 5 == 0:\n",
    "            print(\"counter number: {}\".format(FILTER.counter))\n",
    "            logger.propagate=True\n",
    "#             print(record.msg)\n",
    "        else:\n",
    "            logger.propagate=False\n",
    "        FILTER.counter += 1\n",
    "        \n",
    "        return True\n",
    "\n",
    "logging.basicConfig(format=\"%(message)s\", level=logging.INFO)\n",
    "logger = logging.getLogger(\"filted\")\n",
    "f1 = FILTER()\n",
    "logger.addFilter(f1)"
   ]
  },
  {
   "cell_type": "code",
   "execution_count": 140,
   "metadata": {},
   "outputs": [
    {
     "name": "stderr",
     "output_type": "stream",
     "text": [
      "Hello\n",
      "Hello\n"
     ]
    },
    {
     "name": "stdout",
     "output_type": "stream",
     "text": [
      "----------------------------------------------------------------------------------------------------\n",
      "counter number: 0\n",
      "----------------------------------------------------------------------------------------------------\n",
      "----------------------------------------------------------------------------------------------------\n",
      "----------------------------------------------------------------------------------------------------\n",
      "----------------------------------------------------------------------------------------------------\n",
      "----------------------------------------------------------------------------------------------------\n",
      "counter number: 5\n",
      "----------------------------------------------------------------------------------------------------\n",
      "----------------------------------------------------------------------------------------------------\n",
      "----------------------------------------------------------------------------------------------------\n",
      "----------------------------------------------------------------------------------------------------\n"
     ]
    }
   ],
   "source": [
    "for i in range(10):\n",
    "    logger.info(\"Hello\")"
   ]
  },
  {
   "cell_type": "markdown",
   "metadata": {},
   "source": [
    "# Every 5 Time ( root version )"
   ]
  },
  {
   "cell_type": "code",
   "execution_count": 141,
   "metadata": {},
   "outputs": [
    {
     "name": "stderr",
     "output_type": "stream",
     "text": [
      "Hello 0\n",
      "Hello 1\n",
      "Hello 11\n",
      "Hello 21\n",
      "Hello 31\n",
      "Hello 41\n",
      "Hello 51\n",
      "Hello 61\n",
      "Hello 71\n",
      "Hello 81\n",
      "Hello 91\n"
     ]
    }
   ],
   "source": [
    "for i in logging.root.handlers[:]:\n",
    "    logging.root.removeHandler( i )\n",
    "for i in logging.root.filters[:]:\n",
    "    logging.root.removeFilter( i )\n",
    "    \n",
    "logging.basicConfig(format=\"%(message)s\",level=logging.INFO)\n",
    "\n",
    "for _ in range(100):\n",
    "    logging.root.info(\"Hello {}\".format(_))\n",
    "    if _ % 10 == 0:\n",
    "        logging.root.setLevel(20)\n",
    "    else:\n",
    "        logging.root.setLevel(30)"
   ]
  },
  {
   "cell_type": "code",
   "execution_count": null,
   "metadata": {},
   "outputs": [],
   "source": []
  }
 ],
 "metadata": {
  "kernelspec": {
   "display_name": "Python 3",
   "language": "python",
   "name": "python3"
  },
  "language_info": {
   "codemirror_mode": {
    "name": "ipython",
    "version": 3
   },
   "file_extension": ".py",
   "mimetype": "text/x-python",
   "name": "python",
   "nbconvert_exporter": "python",
   "pygments_lexer": "ipython3",
   "version": "3.6.4"
  }
 },
 "nbformat": 4,
 "nbformat_minor": 2
}
